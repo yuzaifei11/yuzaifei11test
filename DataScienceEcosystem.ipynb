{
 "cells": [
  {
   "cell_type": "markdown",
   "id": "08ccf35e-fbe9-4978-98bd-df5ed8a8279a",
   "metadata": {},
   "source": [
    "# Data Science Tools and Ecosystem"
   ]
  },
  {
   "cell_type": "markdown",
   "id": "77de4d27-3016-4798-ad06-99c549d5cf63",
   "metadata": {},
   "source": [
    "In this notebook, Data Science Tools and Ecosystem are summarized.\r\n"
   ]
  },
  {
   "cell_type": "markdown",
   "id": "81308342-25ec-4f7d-9748-c40adad36800",
   "metadata": {},
   "source": [
    "Some of the popular languages that Data Scientists use are:\n",
    "1. Python\n",
    "2. R\n",
    "3. Scala\n",
    "4. MySQL\r\n"
   ]
  },
  {
   "cell_type": "markdown",
   "id": "0e210f47-7b02-4f1d-8fa3-7f5f915f9735",
   "metadata": {},
   "source": [
    "Some of the commonly used libraries used by Data Scientists include:\n",
    "1. Pandas\n",
    "2. numpy\n",
    "3. ggplot\n",
    "4. matplotlib\r\n"
   ]
  },
  {
   "cell_type": "markdown",
   "id": "4e234adb-c6b9-4342-a0e3-01568972bce0",
   "metadata": {},
   "source": [
    "|Data Science Tools|\n",
    "|---|\n",
    "|Wastson|\n",
    "|H2O Driverless AI|\n",
    "|Azure|\n"
   ]
  },
  {
   "cell_type": "markdown",
   "id": "1c946a72-3542-4e52-95da-893ff44eddad",
   "metadata": {},
   "source": [
    "### Below are a few examples of evaluating arithmetic expressions in Python.\r\n"
   ]
  },
  {
   "cell_type": "code",
   "execution_count": 1,
   "id": "658706ed-7e9e-4700-a165-12fae15ef141",
   "metadata": {},
   "outputs": [
    {
     "data": {
      "text/plain": [
       "17"
      ]
     },
     "execution_count": 1,
     "metadata": {},
     "output_type": "execute_result"
    }
   ],
   "source": [
    "(3*4)+5"
   ]
  },
  {
   "cell_type": "code",
   "execution_count": 2,
   "id": "b38f66e3-e32e-4618-843b-2ec19f2ad039",
   "metadata": {},
   "outputs": [
    {
     "name": "stdout",
     "output_type": "stream",
     "text": [
      "3.3333333333333335\n"
     ]
    }
   ],
   "source": [
    "x = 200\n",
    "y = x/60\n",
    "print(y)\n",
    "#This will convert 200 minutes to hours by diving by 60"
   ]
  },
  {
   "cell_type": "markdown",
   "id": "01330c47-d769-4523-9438-af8d8cb4b04c",
   "metadata": {},
   "source": [
    "List popular languages for Data Science:\n",
    "* R\n",
    "* Python\n",
    "* C++\n",
    "* C"
   ]
  },
  {
   "cell_type": "markdown",
   "id": "943dcb70-7fc2-44f5-ae33-80378116b1fd",
   "metadata": {},
   "source": [
    "## Author\n",
    "name"
   ]
  },
  {
   "cell_type": "code",
   "execution_count": null,
   "id": "a943a0ee-63c3-485d-8775-deb61f161ffb",
   "metadata": {},
   "outputs": [],
   "source": []
  }
 ],
 "metadata": {
  "kernelspec": {
   "display_name": "Python 3 (ipykernel)",
   "language": "python",
   "name": "python3"
  },
  "language_info": {
   "codemirror_mode": {
    "name": "ipython",
    "version": 3
   },
   "file_extension": ".py",
   "mimetype": "text/x-python",
   "name": "python",
   "nbconvert_exporter": "python",
   "pygments_lexer": "ipython3",
   "version": "3.11.4"
  }
 },
 "nbformat": 4,
 "nbformat_minor": 5
}
